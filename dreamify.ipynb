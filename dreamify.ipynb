{
 "cells": [
  {
   "cell_type": "markdown",
   "metadata": {
    "colab_type": "text",
    "id": "RMhGdYHuOZM8"
   },
   "source": [
    "# Deep Dreams (with Caffe)\n",
    "\n",
    "This notebook demonstrates how to use [Caffe](http://caffe.berkeleyvision.org/) neural network framework to produce \"dream\" visuals shown in the [Google Research blog post](http://googleresearch.blogspot.ch/2015/06/inceptionism-going-deeper-into-neural.html).\n",
    "\n",
    "It'll be interesting to see what imagery people are able to generate using the described technique. If you post images to Google+, Facebook, or Twitter, be sure to tag them with **#deepdream** so other researchers can check them out too.\n",
    "\n",
    "##Dependencies\n",
    "This notebook is designed to have as few dependencies as possible:\n",
    "* Standard Python scientific stack: [NumPy](http://www.numpy.org/), [SciPy](http://www.scipy.org/), [PIL](http://www.pythonware.com/products/pil/), [IPython](http://ipython.org/). Those libraries can also be installed as a part of one of scientific packages for Python, such as [Anaconda](http://continuum.io/downloads) or [Canopy](https://store.enthought.com/).\n",
    "* [Caffe](http://caffe.berkeleyvision.org/) deep learning framework ([installation instructions](http://caffe.berkeleyvision.org/installation.html)).\n",
    "* Google [protobuf](https://developers.google.com/protocol-buffers/) library that is used for Caffe model manipulation."
   ]
  },
  {
   "cell_type": "code",
   "execution_count": 1,
   "metadata": {
    "cellView": "both",
    "colab_type": "code",
    "collapsed": false,
    "id": "Pqz5k4syOZNA"
   },
   "outputs": [],
   "source": [
    "# imports and basic notebook setup\n",
    "from cStringIO import StringIO\n",
    "import numpy as np\n",
    "import scipy.ndimage as nd\n",
    "import PIL.Image\n",
    "from IPython.display import clear_output, Image, display\n",
    "from google.protobuf import text_format\n",
    "\n",
    "import caffe\n",
    "\n",
    "import random\n",
    "import os\n",
    "\n",
    "def showarray(a, fmt='jpeg'):\n",
    "    a = np.uint8(np.clip(a, 0, 255))\n",
    "    f = StringIO()\n",
    "    PIL.Image.fromarray(a).save(f, fmt)\n",
    "    display(Image(data=f.getvalue()))"
   ]
  },
  {
   "cell_type": "markdown",
   "metadata": {
    "colab_type": "text",
    "id": "AeF9mG-COZNE"
   },
   "source": [
    "## Loading DNN model\n",
    "In this notebook we are going to use a [GoogLeNet](https://github.com/BVLC/caffe/tree/master/models/bvlc_googlenet) model trained on [ImageNet](http://www.image-net.org/) dataset.\n",
    "Feel free to experiment with other models from Caffe [Model Zoo](https://github.com/BVLC/caffe/wiki/Model-Zoo). One particularly interesting [model](http://places.csail.mit.edu/downloadCNN.html) was trained in [MIT Places](http://places.csail.mit.edu/) dataset. It produced many visuals from the [original blog post](http://googleresearch.blogspot.ch/2015/06/inceptionism-going-deeper-into-neural.html)."
   ]
  },
  {
   "cell_type": "code",
   "execution_count": 2,
   "metadata": {
    "cellView": "both",
    "colab_type": "code",
    "collapsed": false,
    "id": "i9hkSm1IOZNR"
   },
   "outputs": [],
   "source": [
    "# Code to use the MIT Places NN\n",
    "model_path = '/vagrant/models/places/' # substitute your path here\n",
    "net_fn   = model_path + 'deploy_places205.protxt'\n",
    "param_fn = model_path + 'googlelet_places205_train_iter_2400000.caffemodel'\n",
    "\n",
    "# Patching model to be able to compute gradients.\n",
    "# Note that you can also manually add \"force_backward: true\" line to \"deploy.prototxt\".\n",
    "model = caffe.io.caffe_pb2.NetParameter()\n",
    "text_format.Merge(open(net_fn).read(), model)\n",
    "model.force_backward = True\n",
    "open('tmp.prototxt', 'w').write(str(model))\n",
    "\n",
    "net = caffe.Classifier('tmp.prototxt', param_fn,\n",
    "                       mean = np.float32([104.0, 116.0, 122.0]), # ImageNet mean, training set dependent\n",
    "                       channel_swap = (2,1,0)) # the reference model has channels in BGR order instead of RGB\n",
    "\n",
    "# a couple of utility functions for converting to and from Caffe's input image layout\n",
    "def preprocess(net, img):\n",
    "    return np.float32(np.rollaxis(img, 2)[::-1]) - net.transformer.mean['data']\n",
    "def deprocess(net, img):\n",
    "    return np.dstack((img + net.transformer.mean['data'])[::-1])"
   ]
  },
  {
   "cell_type": "raw",
   "metadata": {},
   "source": [
    "# Code to use the original ImageNet data\n",
    "model_path = '/home/vagrant/caffe/models/bvlc_googlenet/' # substitute your path here\n",
    "net_fn   = model_path + 'deploy.prototxt'\n",
    "param_fn = model_path + 'bvlc_googlenet.caffemodel'\n",
    "\n",
    "# Patching model to be able to compute gradients.\n",
    "# Note that you can also manually add \"force_backward: true\" line to \"deploy.prototxt\".\n",
    "model = caffe.io.caffe_pb2.NetParameter()\n",
    "text_format.Merge(open(net_fn).read(), model)\n",
    "model.force_backward = True\n",
    "open('tmp.prototxt', 'w').write(str(model))\n",
    "\n",
    "net = caffe.Classifier('tmp.prototxt', param_fn,\n",
    "                       mean = np.float32([104.0, 116.0, 122.0]), # ImageNet mean, training set dependent\n",
    "                       channel_swap = (2,1,0)) # the reference model has channels in BGR order instead of RGB\n",
    "\n",
    "# a couple of utility functions for converting to and from Caffe's input image layout\n",
    "def preprocess(net, img):\n",
    "    return np.float32(np.rollaxis(img, 2)[::-1]) - net.transformer.mean['data']\n",
    "def deprocess(net, img):\n",
    "    return np.dstack((img + net.transformer.mean['data'])[::-1])"
   ]
  },
  {
   "cell_type": "markdown",
   "metadata": {
    "colab_type": "text",
    "id": "UeV_fJ4QOZNb"
   },
   "source": [
    "##  Producing dreams"
   ]
  },
  {
   "cell_type": "markdown",
   "metadata": {
    "colab_type": "text",
    "id": "9udrp3efOZNd"
   },
   "source": [
    "Making the \"dream\" images is very simple. Essentially it is just a gradient ascent process that tries to maximize the L2 norm of activations of a particular DNN layer. Here are a few simple tricks that we found useful for getting good images:\n",
    "* offset image by a random jitter\n",
    "* normalize the magnitude of gradient ascent steps\n",
    "* apply ascent across multiple scales (octaves)\n",
    "\n",
    "First we implement a basic gradient ascent step function, applying the first two tricks:"
   ]
  },
  {
   "cell_type": "code",
   "execution_count": 3,
   "metadata": {
    "cellView": "both",
    "colab_type": "code",
    "collapsed": false,
    "id": "pN43nMsHOZNg"
   },
   "outputs": [],
   "source": [
    "def make_step(net, step_size=1.5, end='inception_4c/output', jitter=32, clip=True):\n",
    "    '''Basic gradient ascent step.'''\n",
    "\n",
    "    src = net.blobs['data'] # input image is stored in Net's 'data' blob\n",
    "    dst = net.blobs[end]\n",
    "\n",
    "    ox, oy = np.random.randint(-jitter, jitter+1, 2)\n",
    "    src.data[0] = np.roll(np.roll(src.data[0], ox, -1), oy, -2) # apply jitter shift\n",
    "            \n",
    "    net.forward(end=end)\n",
    "    dst.diff[:] = dst.data  # specify the optimization objective\n",
    "    net.backward(start=end)\n",
    "    g = src.diff[0]\n",
    "    # apply normalized ascent step to the input image\n",
    "    src.data[:] += step_size/np.abs(g).mean() * g\n",
    "\n",
    "    src.data[0] = np.roll(np.roll(src.data[0], -ox, -1), -oy, -2) # unshift image\n",
    "            \n",
    "    if clip:\n",
    "        bias = net.transformer.mean['data']\n",
    "        src.data[:] = np.clip(src.data, -bias, 255-bias)    "
   ]
  },
  {
   "cell_type": "markdown",
   "metadata": {
    "colab_type": "text",
    "id": "nphEdlBgOZNk"
   },
   "source": [
    "Next we implement an ascent through different scales. We call these scales \"octaves\"."
   ]
  },
  {
   "cell_type": "code",
   "execution_count": 4,
   "metadata": {
    "cellView": "both",
    "colab_type": "code",
    "collapsed": false,
    "id": "ZpFIn8l0OZNq"
   },
   "outputs": [],
   "source": [
    "def deepdream(net, base_img, iter_n=10, octave_n=4, octave_scale=1.4, end='inception_4c/output', clip=True, **step_params):\n",
    "    # prepare base images for all octaves\n",
    "    octaves = [preprocess(net, base_img)]\n",
    "    for i in xrange(octave_n-1):\n",
    "        octaves.append(nd.zoom(octaves[-1], (1, 1.0/octave_scale,1.0/octave_scale), order=1))\n",
    "    \n",
    "    src = net.blobs['data']\n",
    "    detail = np.zeros_like(octaves[-1]) # allocate image for network-produced details\n",
    "    for octave, octave_base in enumerate(octaves[::-1]):\n",
    "        h, w = octave_base.shape[-2:]\n",
    "        if octave > 0:\n",
    "            # upscale details from the previous octave\n",
    "            h1, w1 = detail.shape[-2:]\n",
    "            detail = nd.zoom(detail, (1, 1.0*h/h1,1.0*w/w1), order=1)\n",
    "\n",
    "        src.reshape(1,3,h,w) # resize the network's input image size\n",
    "        src.data[0] = octave_base+detail\n",
    "        for i in xrange(iter_n):\n",
    "            make_step(net, end=end, clip=clip, **step_params)\n",
    "            \n",
    "            # visualization\n",
    "            vis = deprocess(net, src.data[0])\n",
    "            if not clip: # adjust image contrast if clipping is disabled\n",
    "                vis = vis*(255.0/np.percentile(vis, 99.98))\n",
    "            #showarray(vis)\n",
    "            #print octave, i, end, vis.shape\n",
    "            #clear_output(wait=True)\n",
    "            \n",
    "        # extract details produced on the current octave\n",
    "        detail = src.data[0]-octave_base\n",
    "    # returning the resulting image\n",
    "    return deprocess(net, src.data[0])"
   ]
  },
  {
   "cell_type": "markdown",
   "metadata": {
    "colab_type": "text",
    "id": "QrcdU-lmOZNx"
   },
   "source": [
    "Now we are ready to let the neural network to reveal its dreams! Let's take a [cloud image](https://commons.wikimedia.org/wiki/File:Appearance_of_sky_for_weather_forecast,_Dhaka,_Bangladesh.JPG) as a starting point:"
   ]
  },
  {
   "cell_type": "code",
   "execution_count": 5,
   "metadata": {
    "cellView": "both",
    "colab_type": "code",
    "collapsed": true,
    "executionInfo": null,
    "id": "40p5AqqwOZN5",
    "outputId": "f62cde37-79e8-420a-e448-3b9b48ee1730",
    "pinned": false
   },
   "outputs": [],
   "source": [
    "#img = np.float32(PIL.Image.open('freesideDoggie.jpg'))\n",
    "#showarray(img)"
   ]
  },
  {
   "cell_type": "markdown",
   "metadata": {
    "colab_type": "text",
    "id": "Z9_215_GOZOL"
   },
   "source": [
    "Running the next code cell starts the detail generation process. You may see how new patterns start to form, iteration by iteration, octave by octave."
   ]
  },
  {
   "cell_type": "code",
   "execution_count": 6,
   "metadata": {
    "cellView": "both",
    "colab_type": "code",
    "collapsed": false,
    "executionInfo": null,
    "id": "HlnVnDTlOZOL",
    "outputId": "425dfc83-b474-4a69-8386-30d86361bbf6",
    "pinned": false
   },
   "outputs": [],
   "source": [
    "#_=deepdream(net, img)\n",
    "\n",
    "#frame_i = 0\n",
    "#frame = deepdream(net, img, iter_n=20, octave_n=6)\n",
    "#PIL.Image.fromarray(np.uint8(frame)).save(\"frames/%04d.jpg\"%frame_i)"
   ]
  },
  {
   "cell_type": "markdown",
   "metadata": {
    "colab_type": "text",
    "id": "Rp9kOCQTOZOQ"
   },
   "source": [
    "The complexity of the details generated depends on which layer's activations we try to maximize. Higher layers produce complex features, while lower ones enhance edges and textures, giving the image an impressionist feeling:"
   ]
  },
  {
   "cell_type": "code",
   "execution_count": 7,
   "metadata": {
    "cellView": "both",
    "colab_type": "code",
    "collapsed": false,
    "executionInfo": null,
    "id": "eHOX0t93OZOR",
    "outputId": "0de0381c-4681-4619-912f-9b6a2cdec0c6",
    "pinned": false
   },
   "outputs": [],
   "source": [
    "#_=deepdream(net, img, end='inception_3b/5x5_reduce')"
   ]
  },
  {
   "cell_type": "markdown",
   "metadata": {
    "colab_type": "text",
    "id": "rkzHz9E8OZOb"
   },
   "source": [
    "We encourage readers to experiment with layer selection to see how it affects the results. Execute the next code cell to see the list of different layers. You can modify the `make_step` function to make it follow some different objective, say to select a subset of activations to maximize, or to maximize multiple layers at once. There is a huge design space to explore!"
   ]
  },
  {
   "cell_type": "code",
   "execution_count": 8,
   "metadata": {
    "cellView": "both",
    "colab_type": "code",
    "collapsed": false,
    "id": "OIepVN6POZOc",
    "scrolled": true
   },
   "outputs": [],
   "source": [
    "#  Print the types of filters that are available.\n",
    "#net.blobs.keys()\n",
    "\n"
   ]
  },
  {
   "cell_type": "code",
   "execution_count": null,
   "metadata": {
    "cellView": "both",
    "colab_type": "code",
    "collapsed": false,
    "id": "fj0E-fKDOZOi"
   },
   "outputs": [],
   "source": [
    "\n",
    "def letters(input):\n",
    "    return ''.join([c for c in input if c.isalnum()])\n",
    "\n",
    "\n",
    "def iterateEnds(imgName, frame_i, dirName, endNames, iter_n, octave_n, total_iter):\n",
    "    s = 0.05 # scale coefficient\n",
    "    img = np.float32(PIL.Image.open(imgName))\n",
    "\n",
    "    for endType in endNames:\n",
    "        frame = img\n",
    "        h, w = frame.shape[:2]\n",
    "        frame_i = 0\n",
    "        try:\n",
    "            for i in xrange(total_iter):\n",
    "                frame = deepdream(net, frame, iter_n, octave_n, end=endType)\n",
    "                PIL.Image.fromarray(np.uint8(frame)).save(dirName + \"/\" + letters(endType) + \"%04d.jpg\"%frame_i)\n",
    "                frame = nd.affine_transform(frame, [1-s,1-s,1], [h*s/2,w*s/2,0], order=1)\n",
    "                frame_i += 1\n",
    "        except ValueError:\n",
    "            print endType + \" not in list\"\n",
    "            \n",
    "            \n",
    "def zoomAndProcess(img, frame_i, dirName, endNames, iter_n, octave_n, zoomsPerDream, total_iter, zoomLocation):\n",
    "    s = 0.02 # scale coefficient\n",
    "    frame = img\n",
    "    h, w = frame.shape[:2]\n",
    "    endChoice = random.choice(endNames)\n",
    "    \n",
    "    for i in xrange(total_iter):\n",
    "        # Randomize the algorithm every few iterations\n",
    "        if (i % 5 == 0): endChoice = random.choice(endNames)\n",
    "        #try:\n",
    "        # dream into the frame\n",
    "        frame = deepdream(net, frame, iter_n, octave_n, end=endChoice)\n",
    "        for i in xrange(zoomsPerDream):\n",
    "            # save the new frame\n",
    "            PIL.Image.fromarray(np.uint8(frame)).save(dirName + \"/frame\" + \"%04d.jpg\"%frame_i)\n",
    "            # zoom in by the preset amount\n",
    "            frame = nd.affine_transform(frame, [1-s,1-s,1], [h*s/zoomLocation[0],w*s/zoomLocation[1],0], order=1)\n",
    "            frame_i += 1\n",
    "        #except ValueError:\n",
    "        #        print endChoice + \" not in list\"\n",
    "            \n",
    "    return frame, frame_i\n",
    "\n",
    "#def createGifAndVideo(frameNames,frameDir, frameRate, outName):\n",
    "#    command = \"ffmpeg -r 30 -i frame%04d.jpg out.gif\"\n"
   ]
  },
  {
   "cell_type": "markdown",
   "metadata": {
    "colab_type": "text",
    "id": "vs2uUpMCOZOe"
   },
   "source": [
    "What if we feed the `deepdream` function its own output, after applying a little zoom to it? It turns out that this leads to an endless stream of impressions of the things that the network saw during training. Some patterns fire more often than others, suggestive of basins of attraction.\n",
    "\n",
    "We will start the process from the same sky image as above, but after some iteration the original image becomes irrelevant; even random noise can be used as the starting point."
   ]
  },
  {
   "cell_type": "code",
   "execution_count": null,
   "metadata": {
    "collapsed": false,
    "scrolled": false
   },
   "outputs": [
    {
     "name": "stdout",
     "output_type": "stream",
     "text": [
      "pool2/3x3_s2_pool2/3x3_s2_0_split_0 not in list\n",
      "pool2/3x3_s2_pool2/3x3_s2_0_split_1 not in list\n",
      "pool2/3x3_s2_pool2/3x3_s2_0_split_2 not in list\n",
      "pool2/3x3_s2_pool2/3x3_s2_0_split_3 not in list\n",
      "inception_3a/output_inception_3a/output_0_split_0 not in list\n",
      "inception_3a/output_inception_3a/output_0_split_1 not in list\n",
      "inception_3a/output_inception_3a/output_0_split_2 not in list"
     ]
    }
   ],
   "source": [
    "# Start a new image series\n",
    "\n",
    "# Initialize user parameters\n",
    "imgName = \"VideoProjectStill1.jpg\"\n",
    "dirName = \"VideoProject3_places\"\n",
    "imgDir = dirName + \"/\" + imgName\n",
    "zoomLocation = [50.0,50.0]\n",
    "# For the ImageNet CNN\n",
    "endNamesLight = ['inception_4a/1x1','inception_4a/5x5_reduce','conv2/3x3',\n",
    "            'inception_3a/5x5','inception_3a/output','inception_3b/3x3',\n",
    "            'inception_4a/pool_proj']\n",
    "endNamesHeavy = ['inception_4a/pool_proj','inception_3a/pool_proj','inception_4c/output', 'inception_4d/pool_proj', \n",
    "                'inception_3b/pool_proj', 'inception_4d/1x1', 'inception_4d/3x3',\n",
    "                 'inception_5a/output', 'inception_5b/output']\n",
    "# For the MIT Places CNN\n",
    "endNamesLight = ['inception_4a/3x3','inception_4a/output',\n",
    "                 'inception_4a/pool','inception_4b/1x1',\n",
    "                 'inception_4b/pool','inception_4c/5x5_reduce',\n",
    "                 'inception_4c/pool','inception_4c/pool_proj',\n",
    "                 'inception_4d/1x1','inception_4d/3x3',\n",
    "                 'inception_4d/5x5_reduce','inception_4d/5x5',\n",
    "                 'inception_4d/output','inception_4e/3x3_reduce',\n",
    "                 'inception_4e/5x5_reduce','inception_4e/5x5',\n",
    "                 'inception_4e/pool','inception_4e/pool_proj',\n",
    "                 'inception_5a/pool','inception_5a/pool_proj',\n",
    "                 'inception_5a/5x5','pool4/3x3_s2']\n",
    "endNamesHeavy = ['inception_4a/5x5_reduce','inception_4a/5x5',\n",
    "                 'inception_4b/3x3_reduce','inception_4b/3x3',\n",
    "                 'inception_4b/5x5_reduce','inception_4b/5x5',\n",
    "                 'inception_4b/pool_proj','inception_4b/output',\n",
    "                 'inception_4c/3x3','inception_4d/pool',\n",
    "                 'inception_4d/pool_proj','inception_4e/1x1',\n",
    "                 'inception_4e/3x3','inception_4e/output',\n",
    "                 'inception_5a/pool_proj','inception_5a/output',\n",
    "                 'inception_5b/3x3_reduce','inception_5b/5x5_reduce',\n",
    "                 'inception_5b/pool','inception_5b/pool_proj',\n",
    "                 'inception_5b/output']\n",
    "\n",
    "ends = net.blobs.keys()[1:-1]\n",
    "endsInception = [e for e in ends if e[:3] == \"inc\"]\n",
    "\n",
    "# initialize other parameters\n",
    "frame_i = 0\n",
    "zoomLocation[:] = [100.0 / x for x in zoomLocation]\n",
    "if not os.path.exists(dirName):\n",
    "    os.makedirs(dirName)\n",
    "\n",
    "def startNewSeries(imgName,frame_i,dirName,endNamesLight,endNamesHeavy,zoomLocation):\n",
    "    # Do Image Processing\n",
    "    img = np.float32(PIL.Image.open(imgName))\n",
    "    # zoomAndProcess( img, dirName, endNames, iter_n, octave_n, zoomsPerDream, total_iter, zoomLocation )\n",
    "    frame, frame_i = zoomAndProcess(img,   frame_i,dirName,endNamesLight,1,1,3,12,zoomLocation)  #48\n",
    "    frame, frame_i = zoomAndProcess(frame, frame_i,dirName,endNamesLight,2,2,2,20,zoomLocation)  #108\n",
    "    frame, frame_i = zoomAndProcess(frame, frame_i,dirName,endNamesLight,4,3,2,30,zoomLocation)  #198\n",
    "    frame, frame_i = zoomAndProcess(frame, frame_i,dirName,endNamesHeavy,4,3,1,50,zoomLocation)  #298\n",
    "    frame, frame_i = zoomAndProcess(frame, frame_i,dirName,endNamesHeavy,10,4,1,80,zoomLocation) #458\n",
    "    print \"Done!\"\n",
    "\n",
    "# Flip through each \"end\" and look at the kinds of images that it produces\n",
    "#iterateEnds(imgName, frame_i, dirName, ends, 10, 4, 5)\n",
    "\n",
    "# Start a series where the zoom gradually reveals the dreams at the low level.\n",
    "startNewSeries(imgName,frame_i,dirName,endNamesLight,endNamesHeavy,zoomLocation)\n"
   ]
  },
  {
   "cell_type": "markdown",
   "metadata": {
    "colab_type": "text",
    "id": "XzZGGME_OZOk"
   },
   "source": [
    "Be careful running the code above, it can bring you into very strange realms!"
   ]
  },
  {
   "cell_type": "code",
   "execution_count": null,
   "metadata": {
    "cellView": "both",
    "colab_type": "code",
    "collapsed": false,
    "executionInfo": null,
    "id": "ZCZcz2p1OZOt",
    "outputId": "d3773436-2b5d-4e79-be9d-0f12ab839fff",
    "pinned": false
   },
   "outputs": [],
   "source": [
    "# Continue an image series\n",
    "\n",
    "# Initialize user parameters\n",
    "dirName = \"VideoProject2_zoom\"\n",
    "frame_i = 315  # The last good frame available\n",
    "zoomLocation = [50.0,50.0]\n",
    "\n",
    "# initialize other parameters\n",
    "imgName = \"frame\" + \"%04d.jpg\"%(frame_i)\n",
    "imgDir = dirName + \"/\" + imgName\n",
    "\n",
    "# Pick up the series at the desired processing level\n",
    "def continueSeries(imgDir,frame_i,dirName,endNamesLight,endNamesHeavy,zoomLocation):\n",
    "    if not os.path.isfile(imgDir):\n",
    "        print \"File \" + imgDir + \" does not exist\"\n",
    "        return -1\n",
    "    \n",
    "    # Do Image Processing\n",
    "    frame = np.float32(PIL.Image.open(imgDir))\n",
    "    # zoomAndProcess( img, dirName, endNames, iter_n, octave_n, zoomsPerDream, total_iter )\n",
    "    #frame, frame_i = zoomAndProcess(frame, frame_i,dirName,endNamesLight,1,1,4,12,zoomLocation)  #48\n",
    "    #frame, frame_i = zoomAndProcess(frame, frame_i,dirName,endNamesLight,2,2,3,20,zoomLocation)  #108\n",
    "    #frame, frame_i = zoomAndProcess(frame, frame_i,dirName,endNamesLight,4,3,3,30,zoomLocation)  #198\n",
    "    #frame, frame_i = zoomAndProcess(frame, frame_i,dirName,endNamesHeavy,4,3,2,50,zoomLocation)  #298\n",
    "    frame, frame_i = zoomAndProcess(frame, frame_i,dirName,endNamesHeavy,10,4,2,80,zoomLocation) #458\n",
    "    return 1\n",
    "    \n",
    "# Run the function to continue compiling images\n",
    "#continueSeries(imgDir,frame_i,dirName,endNamesLight,endNamesHeavy,zoomLocation)\n",
    "\n"
   ]
  },
  {
   "cell_type": "markdown",
   "metadata": {
    "collapsed": true
   },
   "source": [
    "# Guided Dreams\n",
    "\n",
    "The image detail generation method described above tends to produce some patterns more often the others. One easy way to improve the generated image diversity is to tweak the optimization objective. Here we show just one of many ways to do that. Let's use one more input image. We'd call it a \"guide\".\n",
    "\n",
    "Note that the neural network we use was trained on images downscaled to 224x224 size. So high resolution images might have to be downscaled, so that the network could pick up their features. The image we use here is already small enough.\n",
    "\n",
    "Now we pick some target layer and extract guide image features.\n",
    "\n",
    "Instead of maximizing the L2-norm of current image activations, we try to maximize the dot-products between activations of current image, and their best matching correspondences from the guide image.\n",
    "\n",
    "This way we can affect the style of generated images without using a different training set."
   ]
  },
  {
   "cell_type": "code",
   "execution_count": null,
   "metadata": {
    "collapsed": true
   },
   "outputs": [],
   "source": [
    "guide = np.float32(PIL.Image.open('flowers.jpg'))\n",
    "showarray(guide)"
   ]
  },
  {
   "cell_type": "code",
   "execution_count": null,
   "metadata": {
    "collapsed": true
   },
   "outputs": [],
   "source": [
    "end = 'inception_3b/output'\n",
    "h, w = guide.shape[:2]\n",
    "src, dst = net.blobs['data'], net.blobs[end]\n",
    "src.reshape(1,3,h,w)\n",
    "src.data[0] = preprocess(net, guide)\n",
    "net.forward(end=end)\n",
    "guide_features = dst.data[0].copy()\n",
    "\n",
    "def objective_guide(dst):\n",
    "    x = dst.data[0].copy()\n",
    "    y = guide_features\n",
    "    ch = x.shape[0]\n",
    "    x = x.reshape(ch,-1)\n",
    "    y = y.reshape(ch,-1)\n",
    "    A = x.T.dot(y) # compute the matrix of dot-products with guide features\n",
    "    dst.diff[0].reshape(ch,-1)[:] = y[:,A.argmax(1)] # select ones that match best\n",
    "\n",
    "_=deepdream(net, img, end=end, objective=objective_guide)"
   ]
  },
  {
   "cell_type": "code",
   "execution_count": null,
   "metadata": {
    "collapsed": true
   },
   "outputs": [],
   "source": []
  },
  {
   "cell_type": "code",
   "execution_count": null,
   "metadata": {
    "collapsed": true
   },
   "outputs": [],
   "source": []
  }
 ],
 "metadata": {
  "colabVersion": "0.3.1",
  "default_view": {},
  "kernelspec": {
   "display_name": "Python 2",
   "language": "python",
   "name": "python2"
  },
  "language_info": {
   "codemirror_mode": {
    "name": "ipython",
    "version": 2
   },
   "file_extension": ".py",
   "mimetype": "text/x-python",
   "name": "python",
   "nbconvert_exporter": "python",
   "pygments_lexer": "ipython2",
   "version": "2.7.6"
  },
  "views": {}
 },
 "nbformat": 4,
 "nbformat_minor": 0
}
